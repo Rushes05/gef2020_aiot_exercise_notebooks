{
 "cells": [
  {
   "cell_type": "markdown",
   "metadata": {},
   "source": [
    "# Import required packages"
   ]
  },
  {
   "cell_type": "code",
   "execution_count": 2,
   "metadata": {
    "id": "Nx1ZIFazsDA9"
   },
   "outputs": [],
   "source": [
    "import numpy as np\n",
    "from matplotlib import pyplot as plt\n",
    "plt.style.use('seaborn')"
   ]
  },
  {
   "cell_type": "markdown",
   "metadata": {},
   "source": [
    "# Exercise 1"
   ]
  },
  {
   "cell_type": "code",
   "execution_count": 3,
   "metadata": {},
   "outputs": [
    {
     "data": {
      "text/plain": [
       "array([1, 2, 3])"
      ]
     },
     "execution_count": 3,
     "metadata": {},
     "output_type": "execute_result"
    }
   ],
   "source": [
    "np.array([1,2,3])"
   ]
  },
  {
   "cell_type": "code",
   "execution_count": 4,
   "metadata": {},
   "outputs": [
    {
     "data": {
      "text/plain": [
       "array([[0., 0.],\n",
       "       [0., 0.]])"
      ]
     },
     "execution_count": 4,
     "metadata": {},
     "output_type": "execute_result"
    }
   ],
   "source": [
    "np.zeros((2,2))"
   ]
  },
  {
   "cell_type": "code",
   "execution_count": 5,
   "metadata": {},
   "outputs": [
    {
     "data": {
      "text/plain": [
       "array([0, 1, 2, 3, 4, 5, 6, 7, 8, 9])"
      ]
     },
     "execution_count": 5,
     "metadata": {},
     "output_type": "execute_result"
    }
   ],
   "source": [
    "np.arange(10)"
   ]
  },
  {
   "cell_type": "code",
   "execution_count": 15,
   "metadata": {},
   "outputs": [
    {
     "data": {
      "text/plain": [
       "array([0.  , 0.25, 0.5 ])"
      ]
     },
     "execution_count": 15,
     "metadata": {},
     "output_type": "execute_result"
    }
   ],
   "source": [
    "np.linspace(0,0.5,3)"
   ]
  },
  {
   "cell_type": "code",
   "execution_count": 19,
   "metadata": {},
   "outputs": [
    {
     "data": {
      "text/plain": [
       "array([[1., 0., 0.],\n",
       "       [0., 1., 0.],\n",
       "       [0., 0., 1.]])"
      ]
     },
     "execution_count": 19,
     "metadata": {},
     "output_type": "execute_result"
    }
   ],
   "source": [
    "np.identity(3)"
   ]
  },
  {
   "cell_type": "code",
   "execution_count": 20,
   "metadata": {},
   "outputs": [
    {
     "name": "stdout",
     "output_type": "stream",
     "text": [
      "a before: [0, 1, 2, 3, 4, 5]\n",
      "b before: [1, 2, 3]\n",
      "a after: [0, 1, 2, 3, 4, 5]\n",
      "b after: [1000, 2, 3]\n"
     ]
    }
   ],
   "source": [
    "a_list = [0,1,2,3,4,5]\n",
    "b_list = a_list[1:4]\n",
    "print('a before:', a_list)\n",
    "print('b before:', b_list)\n",
    "b_list[0] = 1000\n",
    "print('a after:', a_list)\n",
    "print('b after:',b_list)"
   ]
  },
  {
   "cell_type": "code",
   "execution_count": 25,
   "metadata": {},
   "outputs": [
    {
     "name": "stdout",
     "output_type": "stream",
     "text": [
      "a before: [0 1 2 3 4 5]\n",
      "b before: [1 2 3]\n",
      "a after: [0 1 2 3 4 5]\n",
      "b after: [1000    2    3]\n"
     ]
    }
   ],
   "source": [
    "a_array = np.arange(6)\n",
    "b_array = np.array(a_array[1:4])\n",
    "print('a before:', a_array)\n",
    "print('b before:', b_array)\n",
    "b_array[0] = 1000\n",
    "print('a after:', a_array)\n",
    "print('b after:', b_array)"
   ]
  },
  {
   "cell_type": "code",
   "execution_count": 27,
   "metadata": {},
   "outputs": [
    {
     "data": {
      "text/plain": [
       "(6,)"
      ]
     },
     "execution_count": 27,
     "metadata": {},
     "output_type": "execute_result"
    }
   ],
   "source": [
    "a_array.shape"
   ]
  },
  {
   "cell_type": "code",
   "execution_count": 29,
   "metadata": {},
   "outputs": [],
   "source": [
    "indentity = np.identity(10)"
   ]
  },
  {
   "cell_type": "code",
   "execution_count": 30,
   "metadata": {},
   "outputs": [
    {
     "data": {
      "text/plain": [
       "(10, 10)"
      ]
     },
     "execution_count": 30,
     "metadata": {},
     "output_type": "execute_result"
    }
   ],
   "source": [
    "indentity.shape"
   ]
  },
  {
   "cell_type": "code",
   "execution_count": 31,
   "metadata": {},
   "outputs": [
    {
     "data": {
      "text/plain": [
       "(1, 4)"
      ]
     },
     "execution_count": 31,
     "metadata": {},
     "output_type": "execute_result"
    }
   ],
   "source": [
    "x = np.arange(1,5).reshape(1,4)\n",
    "x.shape"
   ]
  },
  {
   "cell_type": "markdown",
   "metadata": {},
   "source": [
    "# Exercise 2"
   ]
  },
  {
   "cell_type": "code",
   "execution_count": 32,
   "metadata": {},
   "outputs": [
    {
     "data": {
      "text/plain": [
       "array([1, 2, 3, 4, 5, 6])"
      ]
     },
     "execution_count": 32,
     "metadata": {},
     "output_type": "execute_result"
    }
   ],
   "source": [
    "x = np.arange(1,7)\n",
    "x"
   ]
  },
  {
   "cell_type": "code",
   "execution_count": 33,
   "metadata": {},
   "outputs": [
    {
     "data": {
      "text/plain": [
       "array([[1, 2],\n",
       "       [3, 4],\n",
       "       [5, 6]])"
      ]
     },
     "execution_count": 33,
     "metadata": {},
     "output_type": "execute_result"
    }
   ],
   "source": [
    "x.reshape(-1,2)"
   ]
  },
  {
   "cell_type": "code",
   "execution_count": 35,
   "metadata": {},
   "outputs": [
    {
     "name": "stdout",
     "output_type": "stream",
     "text": [
      "32\n"
     ]
    }
   ],
   "source": [
    "a = np.array([1,2,3])\n",
    "b = np.array([4,5,6])\n",
    "print(np.dot(a,b))"
   ]
  },
  {
   "cell_type": "code",
   "execution_count": null,
   "metadata": {},
   "outputs": [],
   "source": []
  },
  {
   "cell_type": "markdown",
   "metadata": {},
   "source": [
    "# Exercise 3"
   ]
  },
  {
   "cell_type": "code",
   "execution_count": 52,
   "metadata": {},
   "outputs": [
    {
     "name": "stdout",
     "output_type": "stream",
     "text": [
      "radian measure is 1.5707963267948966\n",
      "degree measure is 90.0\n"
     ]
    }
   ],
   "source": [
    "a = np.array([0,1,2])\n",
    "b = np.array([3,0,0])\n",
    "x = np.arccos(np.dot(a,b)/(np.linalg.norm(a)*np.linalg.norm(b)))\n",
    "print('radian measure is',x)\n",
    "deg = x*(180/np.pi)\n",
    "print('degree measure is',deg)"
   ]
  },
  {
   "cell_type": "code",
   "execution_count": 54,
   "metadata": {},
   "outputs": [
    {
     "data": {
      "text/plain": [
       "array([[2, 2],\n",
       "       [3, 4]])"
      ]
     },
     "execution_count": 54,
     "metadata": {},
     "output_type": "execute_result"
    }
   ],
   "source": [
    "a = np.array([[2,2],[3,4]])\n",
    "a"
   ]
  },
  {
   "cell_type": "code",
   "execution_count": 57,
   "metadata": {},
   "outputs": [
    {
     "data": {
      "text/plain": [
       "array([[ 2. , -1. ],\n",
       "       [-1.5,  1. ]])"
      ]
     },
     "execution_count": 57,
     "metadata": {},
     "output_type": "execute_result"
    }
   ],
   "source": [
    "inv_a = np.linalg.inv(a)\n",
    "inv_a"
   ]
  },
  {
   "cell_type": "code",
   "execution_count": 58,
   "metadata": {},
   "outputs": [
    {
     "data": {
      "text/plain": [
       "array([[1., 0.],\n",
       "       [0., 1.]])"
      ]
     },
     "execution_count": 58,
     "metadata": {},
     "output_type": "execute_result"
    }
   ],
   "source": [
    "np.matmul(a,inv_a)"
   ]
  },
  {
   "cell_type": "code",
   "execution_count": 59,
   "metadata": {},
   "outputs": [
    {
     "data": {
      "text/plain": [
       "array([-1.,  1.])"
      ]
     },
     "execution_count": 59,
     "metadata": {},
     "output_type": "execute_result"
    }
   ],
   "source": [
    "A = np.array([[1,2],[3,5]])\n",
    "b = np.array([1,2])\n",
    "\n",
    "np.linalg.solve(A,b)"
   ]
  },
  {
   "cell_type": "code",
   "execution_count": 61,
   "metadata": {},
   "outputs": [
    {
     "data": {
      "text/plain": [
       "array([[-5.,  2.],\n",
       "       [ 3., -1.]])"
      ]
     },
     "execution_count": 61,
     "metadata": {},
     "output_type": "execute_result"
    }
   ],
   "source": [
    "inv_A = np.linalg.inv(A)\n",
    "inv_A"
   ]
  },
  {
   "cell_type": "code",
   "execution_count": 62,
   "metadata": {},
   "outputs": [
    {
     "data": {
      "text/plain": [
       "array([-1.,  1.])"
      ]
     },
     "execution_count": 62,
     "metadata": {},
     "output_type": "execute_result"
    }
   ],
   "source": [
    "np.matmul(inv_A,b)"
   ]
  },
  {
   "cell_type": "code",
   "execution_count": 65,
   "metadata": {},
   "outputs": [
    {
     "data": {
      "text/plain": [
       "array([0, 1, 2, 3, 4])"
      ]
     },
     "execution_count": 65,
     "metadata": {},
     "output_type": "execute_result"
    }
   ],
   "source": [
    "x = np.arange(5)\n",
    "x"
   ]
  },
  {
   "cell_type": "code",
   "execution_count": 66,
   "metadata": {},
   "outputs": [
    {
     "data": {
      "text/plain": [
       "array([2, 2, 2, 2, 2])"
      ]
     },
     "execution_count": 66,
     "metadata": {},
     "output_type": "execute_result"
    }
   ],
   "source": [
    "y = np.repeat(2, x.shape[0])\n",
    "y"
   ]
  },
  {
   "cell_type": "code",
   "execution_count": 67,
   "metadata": {},
   "outputs": [
    {
     "data": {
      "text/plain": [
       "array([False, False,  True, False, False])"
      ]
     },
     "execution_count": 67,
     "metadata": {},
     "output_type": "execute_result"
    }
   ],
   "source": [
    "x==y"
   ]
  },
  {
   "cell_type": "markdown",
   "metadata": {},
   "source": [
    "# Exercise 4 - Linear Regression Exercise"
   ]
  },
  {
   "cell_type": "markdown",
   "metadata": {},
   "source": [
    "## Simulation of mock data \n",
    "\n",
    "Suppose the independent variable $x$ and the response variable $y$ follow a linear relationship, i.e.:\n",
    "\n",
    "$$ y  = \\mathbf{\\beta}^\\top \\cdot \\mathbf{x} = \\beta_0 + \\beta_1 x$$\n",
    "\n",
    "where\n",
    "$$\n",
    "\\mathbf{\\beta}\n",
    "=\n",
    "\\begin{bmatrix} \n",
    "\\beta_0 \\\\\n",
    "\\beta_1\n",
    "\\end{bmatrix} \n",
    "\\text{    and,    } \n",
    "\\mathbf{x}\n",
    "=\n",
    "\\begin{bmatrix} \n",
    "1 \\\\\n",
    "x\n",
    "\\end{bmatrix} \n",
    "$$\n",
    "\n",
    "$\\beta_0$ is the intercept term and $\\beta_1$ is the slope term."
   ]
  },
  {
   "cell_type": "markdown",
   "metadata": {},
   "source": [
    "We want to create some mock data $(X,Y)$ of $N=1000$ data points with certain amount of Gaussian noise $\\epsilon \\sim \\mathcal{N} (0,1) $.\n",
    "\n",
    "\n",
    "Where \n",
    "$$\n",
    "X\n",
    "=\n",
    "\\begin{bmatrix}\n",
    "\\mathbf{x_1}, \n",
    "\\mathbf{x_2}, \n",
    "\\cdots,\n",
    "\\mathbf{x_N}\n",
    "\\end{bmatrix}\n",
    "=\n",
    "\\begin{bmatrix}\n",
    "1 & 1& & 1\\\\\n",
    "& &\\cdots &\\\\\n",
    "x_1 & x_2& & x_N\n",
    "\\end{bmatrix}\n",
    "\\text{        and ,     }\n",
    "Y\n",
    "=\n",
    "\\begin{bmatrix}\n",
    "y_1,\n",
    "y_2,\n",
    "\\cdots,\n",
    "y_N\n",
    "\\end{bmatrix}\n",
    "$$\n",
    "\n"
   ]
  },
  {
   "cell_type": "markdown",
   "metadata": {},
   "source": [
    "and\n",
    "\n",
    "$$ y_i = \\mathbf{\\beta}^\\top_i \\cdot \\mathbf{x} + \\epsilon_i = \\beta_0 + \\beta_1 x_i + \\epsilon_i $$ for $i=1 \\ldots N$\n",
    "\n",
    "\n",
    "Let's assume $\\beta_0 = 3$ and $\\beta_1 = 10$."
   ]
  },
  {
   "cell_type": "code",
   "execution_count": 3,
   "metadata": {
    "colab": {
     "base_uri": "https://localhost:8080/",
     "height": 365
    },
    "id": "mTVqxx2BsO7t",
    "outputId": "7fc940f7-3cac-4d47-e709-ff6a7dfabeee"
   },
   "outputs": [
    {
     "data": {
      "text/plain": [
       "<matplotlib.collections.PathCollection at 0x7fe926d5be20>"
      ]
     },
     "execution_count": 3,
     "metadata": {},
     "output_type": "execute_result"
    },
    {
     "data": {
      "image/png": "[encoded data removed]",
      "text/plain": [
       "<Figure size 576x396 with 1 Axes>"
      ]
     },
     "metadata": {},
     "output_type": "display_data"
    }
   ],
   "source": [
    "N = 1000 #sample size\n",
    "\n",
    "true_beta = np.array([3,10])\n",
    "x = np.linspace(-1,1,N)\n",
    "x1 = np.vstack([np.ones(x.shape), x])\n",
    "\n",
    "eps = np.random.normal(0,1,N)\n",
    "\n",
    "y = np.matmul(true_beta, x1) + eps\n",
    "\n",
    "plt.scatter(x,y)"
   ]
  },
  {
   "cell_type": "markdown",
   "metadata": {},
   "source": [
    "## Linear Regression"
   ]
  },
  {
   "cell_type": "markdown",
   "metadata": {},
   "source": [
    "Suppose that we know $x$ and $y$ follow a linear relationship, but we do not know the value of $\\mathbf{\\beta}$. \n",
    "We want to build a linear model $f(\\mathbf{x}; \\beta)$ and estimate the value of $\\mathbf{\\beta}$ from data samples $(x_i,y_i)$, so that given any input $\\mathbf{x}_i$, we can make a prediction $\\hat{y_i}$:\n",
    "\n",
    "\n",
    "$$ \\hat{y_i} = f(\\mathbf{x}_i; \\beta) = \\mathbf{\\beta}^\\top_i \\cdot \\mathbf{x}  = \\beta_0 + \\beta_1 x_i  $$\n",
    "\n",
    "\n"
   ]
  },
  {
   "cell_type": "markdown",
   "metadata": {},
   "source": [
    "Define the mean squared error loss function which measure the error between our predictions and the actual values:"
   ]
  },
  {
   "cell_type": "markdown",
   "metadata": {
    "id": "_7g8A-Cb6svF"
   },
   "source": [
    "$$ l = \\frac{1}{N} \\sum_{i=1}^{N} (y_i-\\hat{y_i})^2 $$"
   ]
  },
  {
   "cell_type": "markdown",
   "metadata": {},
   "source": [
    "We can estimate the value of $\\beta$ by finding the minimizer which minimizes $l$ using the Newton-Raphson algorithm."
   ]
  },
  {
   "cell_type": "markdown",
   "metadata": {},
   "source": [
    "$$\n",
    "\\mathbf{\\hat{\\beta}}\n",
    "=\n",
    "\\text{argmin}_\\beta \\   l(\\beta)\n",
    "$$"
   ]
  },
  {
   "cell_type": "markdown",
   "metadata": {},
   "source": [
    "## Gradient and Hessian"
   ]
  },
  {
   "cell_type": "markdown",
   "metadata": {},
   "source": [
    "To use the Newton-Raphson algorithm, we need to calculate the gradient and Hessian of the loss function, which are the first order and second order partial derivatives of the loss function respectively."
   ]
  },
  {
   "cell_type": "markdown",
   "metadata": {},
   "source": [
    "### The first order partial derivatives of the loss function are:"
   ]
  },
  {
   "cell_type": "markdown",
   "metadata": {},
   "source": [
    "$$\n",
    "\\begin{align}\n",
    "\\frac{\\partial l}{\\partial \\beta_0} &= -\\frac{2}{N} \\sum_{i=1}^N (y_i-\\hat{y_i}) \\\\\n",
    "\\frac{\\partial l}{\\partial \\beta_1} &= -\\frac{2}{N} \\sum_{i=1}^N x_i \\cdot (y_i-\\hat{y_i}) \n",
    "\\end{align}\n",
    "$$"
   ]
  },
  {
   "cell_type": "markdown",
   "metadata": {},
   "source": [
    "### The gradient of the loss function is: "
   ]
  },
  {
   "cell_type": "markdown",
   "metadata": {},
   "source": [
    "$$\n",
    "\\nabla l\n",
    "=\n",
    "\\begin{bmatrix} \n",
    "\\frac{\\partial l}{\\partial \\beta_0} \\\\ \n",
    "\\frac{\\partial l}{\\partial \\beta_1}\n",
    "\\end{bmatrix}\n",
    "= \n",
    "-2 \\cdot\n",
    "\\begin{bmatrix} \n",
    "\\frac{1}{N} \\sum_{i=1}^N (y_i -\\hat{y_i}) \\\\ \n",
    "\\frac{1}{N} \\sum_{i=1}^N x_i \\cdot (y_i -\\hat{y_i})\n",
    "\\end{bmatrix}\n",
    "$$"
   ]
  },
  {
   "cell_type": "markdown",
   "metadata": {},
   "source": [
    "### The second order partial derivatives of the loss function are:"
   ]
  },
  {
   "cell_type": "markdown",
   "metadata": {},
   "source": [
    "$$ \n",
    "\\begin{align}\n",
    "\\frac{\\partial^2 l}{\\partial \\beta_0^2} &= 2 \\\\\n",
    "\\frac{\\partial^2 l}{\\partial \\beta_1^2} &=  \\frac{2}{N} \\sum_{i=1}^N x_i^2 \\\\\n",
    "\\frac{\\partial^2 l}{\\partial \\beta_0 \\partial \\beta_1}  \n",
    "&=  \n",
    "\\frac{\\partial^2 l}{\\partial \\beta_1 \\partial \\beta_0}\n",
    "=\n",
    "\\frac{2}{N} \\sum_{i=1}^N x_i \n",
    "\\end{align}\n",
    "$$"
   ]
  },
  {
   "cell_type": "markdown",
   "metadata": {},
   "source": [
    "### The Hessian of the loss function is: "
   ]
  },
  {
   "cell_type": "markdown",
   "metadata": {},
   "source": [
    "$$ \n",
    "H \n",
    "= \n",
    "\\begin{bmatrix} \n",
    "\\frac{\\partial^2 l}{\\partial \\beta_0^2} & \\frac{\\partial^2 l}{\\partial \\beta_0 \\partial \\beta_1} \\\\ \\frac{\\partial^2 l}{\\partial \\beta_1 \\partial \\beta_0} & \\frac{\\partial^2 l}{\\partial \\beta_1^2} \n",
    "\\end{bmatrix} \n",
    "= \n",
    "2 \\cdot\n",
    "\\begin{bmatrix}\n",
    "1 & \\frac{1}{N} \\sum_{i=1}^N x_i \\\\\n",
    "\\frac{1}{N} \\sum_{i=1}^N x_i & \\frac{1}{N} \\sum_{i=1}^N x_i^2\n",
    "\\end{bmatrix}\n",
    "$$"
   ]
  },
  {
   "cell_type": "markdown",
   "metadata": {
    "id": "QHy-SEHM3Nd7"
   },
   "source": [
    "## Newton-Raphson Algorithm (2nd Order Optimization)\n",
    "\n",
    "\n",
    "\n",
    "\n",
    "\n",
    "\n"
   ]
  },
  {
   "cell_type": "markdown",
   "metadata": {},
   "source": [
    "Define the functions for our linear model and the loss function"
   ]
  },
  {
   "cell_type": "code",
   "execution_count": 4,
   "metadata": {
    "id": "DrghUjgCtJ52"
   },
   "outputs": [],
   "source": [
    "# Define the function for our linear model\n",
    "def model(param,x1):\n",
    "    \n",
    "    return\n",
    "\n",
    "# Define the function for our loss function\n",
    "def loss_func(param, x1, y): \n",
    "    \n",
    "    return "
   ]
  },
  {
   "cell_type": "markdown",
   "metadata": {
    "id": "jN03rwVr6qsN"
   },
   "source": [
    "Newton-Raphson algorithm:\n",
    "\n",
    "1. Initialize $\\mathbf{\\beta}$ by sampling from the standard normal distribution  $\\mathcal{N} (0,1)$ \n",
    "\n",
    "\n",
    "\n",
    "2. At each iteration $k$, update the parameters $\\mathbf{\\beta}$ by this equation: \\\n",
    "   $$ \\mathbf{\\beta_{k+1}} = \\mathbf{\\beta_k} - H^{-1} \\mathbf{\\nabla} l(\\beta_k) $$\n",
    "     \n",
    "     \n",
    "3. Stop the algorithm when $|l(\\beta_{k+1}) - l(\\beta_k)| < \\text{tolerance}$, we can use a small number, i.e. $10^{-7}$, as our tolerance value \n",
    "\n",
    "\n",
    "Hint:\n",
    "1. You can use np.abs(delta) to compute the absolute value of delta\n"
   ]
  },
  {
   "cell_type": "code",
   "execution_count": 5,
   "metadata": {
    "colab": {
     "base_uri": "https://localhost:8080/",
     "height": 419
    },
    "id": "qIDLrQvmu9hy",
    "outputId": "694c213e-9ced-43b0-e14c-d7c524e62b0f"
   },
   "outputs": [],
   "source": [
    "beta = np.random.normal(0,1,2) #initialize beta\n",
    "tol = 1e-7 #toloerance\n",
    "delta = 1 #a variable to store the value for l(\\beta_{k+1}) - l(\\beta_{k}), initialized to be 1\n",
    "\n",
    "\n",
    "\n"
   ]
  },
  {
   "cell_type": "markdown",
   "metadata": {},
   "source": [
    "## Visualizing the result"
   ]
  },
  {
   "cell_type": "code",
   "execution_count": 6,
   "metadata": {
    "colab": {
     "base_uri": "https://localhost:8080/",
     "height": 361
    },
    "id": "xIXU02pRu9jy",
    "outputId": "cb9b7e97-7290-4170-dac5-6568835c9cfc"
   },
   "outputs": [
    {
     "name": "stdout",
     "output_type": "stream",
     "text": [
      "The estimated value for beta is: [-1.00955392  1.39044955]\n",
      "The true value for beta is: [ 3 10]\n"
     ]
    },
    {
     "data": {
      "image/png": "[encoded data removed]",
      "text/plain": [
       "<Figure size 576x396 with 1 Axes>"
      ]
     },
     "metadata": {},
     "output_type": "display_data"
    }
   ],
   "source": [
    "print('The estimated value for beta is:', beta)\n",
    "print('The true value for beta is:', true_beta)\n",
    "\n",
    "y_pred = np.matmul(beta,x1)\n",
    "\n",
    "plt.plot(x, y_pred, 'r')\n",
    "plt.scatter(x,y)\n",
    "plt.ylabel('y')\n",
    "plt.xlabel('x')\n",
    "plt.show()"
   ]
  },
  {
   "cell_type": "markdown",
   "metadata": {
    "id": "_eEc80S_4y4p"
   },
   "source": [
    "## Gradient Descent Algorithm (1st Order Optimization) [Optional Exercise]"
   ]
  },
  {
   "cell_type": "markdown",
   "metadata": {
    "id": "sWziMZP96hSH"
   },
   "source": [
    "Gradient descent algorithm:\n",
    "\n",
    "\n",
    "1. Initialize $\\mathbf{\\beta}$ by sampling from the standard normal distribution  $\\mathcal{N} (0,1)$ \n",
    "\n",
    "\n",
    "\n",
    "2. At each iteration $k$, update the parameters $\\mathbf{\\beta}$ by this equation: \\\n",
    "   $$ \\mathbf{\\beta_{k+1}} = \\mathbf{\\beta_k} - \\alpha \\mathbf{\\nabla} l(\\beta_k) $$\n",
    "   where $\\alpha \\sim 10^{-1}$ is the step size\n",
    "\n",
    "\n",
    "\n",
    "3. Stop the algorithm when $|l(\\beta_{k+1}) - l(\\beta_k)| < \\text{tolerance}$, we can use a small number, i.e. $10^{-7}$, as our tolerance value \n",
    "\n"
   ]
  },
  {
   "cell_type": "code",
   "execution_count": 7,
   "metadata": {
    "colab": {
     "base_uri": "https://localhost:8080/",
     "height": 1000
    },
    "id": "pWPNUYyAxm8q",
    "outputId": "b9e8fb27-f39c-4b2d-cac9-b2fda707b6e4",
    "scrolled": true
   },
   "outputs": [],
   "source": [
    "beta = np.random.normal(0,1,2)\n",
    "\n",
    "alpha = 3e-1\n",
    "tol = 1e-7\n",
    "delta = 1\n",
    "\n",
    "\n"
   ]
  },
  {
   "cell_type": "markdown",
   "metadata": {},
   "source": [
    "## Visualizing the result"
   ]
  },
  {
   "cell_type": "code",
   "execution_count": 8,
   "metadata": {
    "colab": {
     "base_uri": "https://localhost:8080/",
     "height": 361
    },
    "id": "hmG0WtzI5C0N",
    "outputId": "f44eede9-3dcb-4974-b2ea-1738e3a2d23b"
   },
   "outputs": [
    {
     "name": "stdout",
     "output_type": "stream",
     "text": [
      "The estimated value for beta is: [-0.00487314 -2.39638351]\n",
      "The true value for beta is: [ 3 10]\n"
     ]
    },
    {
     "data": {
      "image/png": "[encoded data removed]",
      "text/plain": [
       "<Figure size 576x396 with 1 Axes>"
      ]
     },
     "metadata": {},
     "output_type": "display_data"
    }
   ],
   "source": [
    "print('The estimated value for beta is:', beta)\n",
    "print('The true value for beta is:', true_beta)\n",
    "\n",
    "y_pred = np.matmul(beta,x1)\n",
    "\n",
    "plt.plot(x, y_pred, 'r')\n",
    "plt.scatter(x,y)\n",
    "plt.ylabel('y')\n",
    "plt.xlabel('x')\n",
    "plt.show()"
   ]
  },
  {
   "cell_type": "code",
   "execution_count": null,
   "metadata": {},
   "outputs": [],
   "source": []
  }
 ],
 "metadata": {
  "colab": {
   "name": "linear_regression.ipynb",
   "provenance": []
  },
  "kernelspec": {
   "display_name": "Python 3",
   "language": "python",
   "name": "python3"
  },
  "language_info": {
   "codemirror_mode": {
    "name": "ipython",
    "version": 3
   },
   "file_extension": ".py",
   "mimetype": "text/x-python",
   "name": "python",
   "nbconvert_exporter": "python",
   "pygments_lexer": "ipython3",
   "version": "3.8.8"
  }
 },
 "nbformat": 4,
 "nbformat_minor": 1
}
